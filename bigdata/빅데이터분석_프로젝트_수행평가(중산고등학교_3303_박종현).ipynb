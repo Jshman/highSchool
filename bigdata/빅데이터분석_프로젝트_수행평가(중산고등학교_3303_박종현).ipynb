{
  "nbformat": 4,
  "nbformat_minor": 0,
  "metadata": {
    "colab": {
      "provenance": [],
      "include_colab_link": true
    },
    "kernelspec": {
      "name": "python3",
      "display_name": "Python 3"
    },
    "language_info": {
      "name": "python"
    }
  },
  "cells": [
    {
      "cell_type": "markdown",
      "metadata": {
        "id": "view-in-github",
        "colab_type": "text"
      },
      "source": [
        "<a href=\"https://colab.research.google.com/github/Jshman/highSchool/blob/main/%EB%B9%85%EB%8D%B0%EC%9D%B4%ED%84%B0%EB%B6%84%EC%84%9D_%ED%94%84%EB%A1%9C%EC%A0%9D%ED%8A%B8_%EC%88%98%ED%96%89%ED%8F%89%EA%B0%80(%EC%A4%91%EC%82%B0%EA%B3%A0%EB%93%B1%ED%95%99%EA%B5%90_3303_%EB%B0%95%EC%A2%85%ED%98%84).ipynb\" target=\"_parent\"><img src=\"https://colab.research.google.com/assets/colab-badge.svg\" alt=\"Open In Colab\"/></a>"
      ]
    },
    {
      "cell_type": "code",
      "metadata": {
        "colab": {
          "base_uri": "https://localhost:8080/"
        },
        "id": "MGhbNmX5GRxm",
        "outputId": "2889abaf-dc52-4408-f59c-736af6910fe2"
      },
      "source": [
        "from google.colab import drive\n",
        "drive.mount('/content/drive')"
      ],
      "execution_count": null,
      "outputs": [
        {
          "output_type": "stream",
          "text": [
            "Drive already mounted at /content/drive; to attempt to forcibly remount, call drive.mount(\"/content/drive\", force_remount=True).\n"
          ],
          "name": "stdout"
        }
      ]
    },
    {
      "cell_type": "code",
      "metadata": {
        "colab": {
          "base_uri": "https://localhost:8080/"
        },
        "id": "EBdyl-huGYxa",
        "outputId": "c72f9c97-a386-4ebb-c9ba-5fd3676f9088"
      },
      "source": [
        "#한글패치 (실행 - 런타임(다시시작) - 실행)\n",
        "!sudo apt-get install -y fonts-nanum\n",
        "!sudo fc-cache -fv\n",
        "!rm ~/.cache/matplotlib -rf\n",
        "\n",
        "import matplotlib.pyplot as plt\n",
        "plt.rc('font', family='NanumBarunGothic')\n"
      ],
      "execution_count": null,
      "outputs": [
        {
          "output_type": "stream",
          "text": [
            "Reading package lists... Done\n",
            "Building dependency tree       \n",
            "Reading state information... Done\n",
            "The following NEW packages will be installed:\n",
            "  fonts-nanum\n",
            "0 upgraded, 1 newly installed, 0 to remove and 39 not upgraded.\n",
            "Need to get 9,604 kB of archives.\n",
            "After this operation, 29.5 MB of additional disk space will be used.\n",
            "Get:1 http://archive.ubuntu.com/ubuntu bionic/universe amd64 fonts-nanum all 20170925-1 [9,604 kB]\n",
            "Fetched 9,604 kB in 3s (3,041 kB/s)\n",
            "debconf: unable to initialize frontend: Dialog\n",
            "debconf: (No usable dialog-like program is installed, so the dialog based frontend cannot be used. at /usr/share/perl5/Debconf/FrontEnd/Dialog.pm line 76, <> line 1.)\n",
            "debconf: falling back to frontend: Readline\n",
            "debconf: unable to initialize frontend: Readline\n",
            "debconf: (This frontend requires a controlling tty.)\n",
            "debconf: falling back to frontend: Teletype\n",
            "dpkg-preconfigure: unable to re-open stdin: \n",
            "Selecting previously unselected package fonts-nanum.\n",
            "(Reading database ... 160815 files and directories currently installed.)\n",
            "Preparing to unpack .../fonts-nanum_20170925-1_all.deb ...\n",
            "Unpacking fonts-nanum (20170925-1) ...\n",
            "Setting up fonts-nanum (20170925-1) ...\n",
            "Processing triggers for fontconfig (2.12.6-0ubuntu2) ...\n",
            "/usr/share/fonts: caching, new cache contents: 0 fonts, 1 dirs\n",
            "/usr/share/fonts/truetype: caching, new cache contents: 0 fonts, 3 dirs\n",
            "/usr/share/fonts/truetype/humor-sans: caching, new cache contents: 1 fonts, 0 dirs\n",
            "/usr/share/fonts/truetype/liberation: caching, new cache contents: 16 fonts, 0 dirs\n",
            "/usr/share/fonts/truetype/nanum: caching, new cache contents: 10 fonts, 0 dirs\n",
            "/usr/local/share/fonts: caching, new cache contents: 0 fonts, 0 dirs\n",
            "/root/.local/share/fonts: skipping, no such directory\n",
            "/root/.fonts: skipping, no such directory\n",
            "/var/cache/fontconfig: cleaning cache directory\n",
            "/root/.cache/fontconfig: not cleaning non-existent cache directory\n",
            "/root/.fontconfig: not cleaning non-existent cache directory\n",
            "fc-cache: succeeded\n"
          ],
          "name": "stdout"
        }
      ]
    },
    {
      "cell_type": "markdown",
      "metadata": {
        "id": "IVikehALWRUn"
      },
      "source": [
        "**굵은 텍스트**# 주제 : 우리나라 과일 생산 금액"
      ]
    },
    {
      "cell_type": "markdown",
      "metadata": {
        "id": "bs-PMKcjT0Ao"
      },
      "source": [
        "주제를 선정하게 된 계기나 주제에 대한 기본적인 설명 등\n",
        "\n",
        "*   1) 해당 주제를 선정하게 된 이유 : 고2 때 생명과학을 배우며 지구온난화에 대한 호기심이 생겨 개인적으로 관련 자료를 모아 글짓기를 한 적이 있었는데 이상기후로 인해 농산물 값이 증가했다는 뉴스를 접하고 우리나라 농업 생산에 대해 호기심이 생김\n",
        "\n",
        "*   2) 주제에 대한 설명 : 우리나라가 환경과 관련해서 농산물이 어떤 영향을 받았는지 알아보고자 함.\n",
        "\n",
        "*   3) 주제를 통해 ~ 을 분석하고자 합니다. : 우리나라 농산물들의 생산 금액의 변동이 심한 곳에서 이상기후와 같은 환경 문제가 없었는지 분석하고자 함.\n",
        "\n"
      ]
    },
    {
      "cell_type": "markdown",
      "metadata": {
        "id": "4Y3J2HWUWfQZ"
      },
      "source": [
        "\n",
        "데이터 파일명을 '**OO고등학교 학번 이름 데이터명.zip**'으로 수정 후 https://drive.google.com/drive/folders/1BaSB7eSwkmPwTN6Zcd9Du9J2kgnBV737?usp=sharing 에  제출"
      ]
    },
    {
      "cell_type": "markdown",
      "metadata": {
        "id": "kBiiyXV-WpsC"
      },
      "source": [
        "##1. 데이터 불러오기"
      ]
    },
    {
      "cell_type": "code",
      "metadata": {
        "id": "rHxl2FPQWjN0"
      },
      "source": [
        "import pandas as pd\n",
        "import matplotlib.pyplot as plt\n",
        "\n",
        "f = open('/content/drive/MyDrive/big_data/abcdefg/농림생산지수.csv', encoding = 'cp949')\n"
      ],
      "execution_count": null,
      "outputs": []
    },
    {
      "cell_type": "markdown",
      "metadata": {
        "id": "G2m210L0Wj14"
      },
      "source": [
        "## 2. 데이터 전처리\n",
        "\n"
      ]
    },
    {
      "cell_type": "code",
      "metadata": {
        "colab": {
          "base_uri": "https://localhost:8080/",
          "height": 204
        },
        "id": "s6pUTdXxGxrB",
        "outputId": "38437d0b-ca2c-4390-ac70-748e49eb4efd"
      },
      "source": [
        "data = pd.read_csv(f)\n",
        "data.head()\n",
        "#엽채류:배추, 상추, 시금치 등\n",
        "#과채류:토마토·가지·고추·풋콩·피망 등\n",
        "#근채류:감자·연뿌리·생강·토란 등"
      ],
      "execution_count": null,
      "outputs": [
        {
          "output_type": "execute_result",
          "data": {
            "text/html": [
              "<div>\n",
              "<style scoped>\n",
              "    .dataframe tbody tr th:only-of-type {\n",
              "        vertical-align: middle;\n",
              "    }\n",
              "\n",
              "    .dataframe tbody tr th {\n",
              "        vertical-align: top;\n",
              "    }\n",
              "\n",
              "    .dataframe thead th {\n",
              "        text-align: right;\n",
              "    }\n",
              "</style>\n",
              "<table border=\"1\" class=\"dataframe\">\n",
              "  <thead>\n",
              "    <tr style=\"text-align: right;\">\n",
              "      <th></th>\n",
              "      <th>시점</th>\n",
              "      <th>품목별1</th>\n",
              "      <th>품목별2</th>\n",
              "      <th>품목별3</th>\n",
              "      <th>품목별4</th>\n",
              "      <th>품목별5</th>\n",
              "      <th>품목별6</th>\n",
              "      <th>생산지수</th>\n",
              "      <th>생산금액 (십억원)</th>\n",
              "    </tr>\n",
              "  </thead>\n",
              "  <tbody>\n",
              "    <tr>\n",
              "      <th>0</th>\n",
              "      <td>2000</td>\n",
              "      <td>농업</td>\n",
              "      <td>재배업</td>\n",
              "      <td>소계</td>\n",
              "      <td>소계</td>\n",
              "      <td>소계</td>\n",
              "      <td>소계</td>\n",
              "      <td>106.8</td>\n",
              "      <td>23885.3</td>\n",
              "    </tr>\n",
              "    <tr>\n",
              "      <th>1</th>\n",
              "      <td>2000</td>\n",
              "      <td>농업</td>\n",
              "      <td>재배업</td>\n",
              "      <td>채소</td>\n",
              "      <td>엽채류</td>\n",
              "      <td>노지재배</td>\n",
              "      <td>배추</td>\n",
              "      <td>141.1</td>\n",
              "      <td>520.5</td>\n",
              "    </tr>\n",
              "    <tr>\n",
              "      <th>2</th>\n",
              "      <td>2000</td>\n",
              "      <td>농업</td>\n",
              "      <td>재배업</td>\n",
              "      <td>채소</td>\n",
              "      <td>엽채류</td>\n",
              "      <td>노지재배</td>\n",
              "      <td>양배추</td>\n",
              "      <td>78.4</td>\n",
              "      <td>62.6</td>\n",
              "    </tr>\n",
              "    <tr>\n",
              "      <th>3</th>\n",
              "      <td>2000</td>\n",
              "      <td>농업</td>\n",
              "      <td>재배업</td>\n",
              "      <td>채소</td>\n",
              "      <td>엽채류</td>\n",
              "      <td>노지재배</td>\n",
              "      <td>시금치</td>\n",
              "      <td>172.7</td>\n",
              "      <td>45.0</td>\n",
              "    </tr>\n",
              "    <tr>\n",
              "      <th>4</th>\n",
              "      <td>2000</td>\n",
              "      <td>농업</td>\n",
              "      <td>재배업</td>\n",
              "      <td>채소</td>\n",
              "      <td>엽채류</td>\n",
              "      <td>노지재배</td>\n",
              "      <td>상추</td>\n",
              "      <td>213.4</td>\n",
              "      <td>47.4</td>\n",
              "    </tr>\n",
              "  </tbody>\n",
              "</table>\n",
              "</div>"
            ],
            "text/plain": [
              "     시점 품목별1 품목별2 품목별3 품목별4  품목별5 품목별6   생산지수  생산금액 (십억원)\n",
              "0  2000   농업  재배업   소계   소계    소계   소계  106.8     23885.3\n",
              "1  2000   농업  재배업   채소  엽채류  노지재배   배추  141.1       520.5\n",
              "2  2000   농업  재배업   채소  엽채류  노지재배  양배추   78.4        62.6\n",
              "3  2000   농업  재배업   채소  엽채류  노지재배  시금치  172.7        45.0\n",
              "4  2000   농업  재배업   채소  엽채류  노지재배   상추  213.4        47.4"
            ]
          },
          "metadata": {
            "tags": []
          },
          "execution_count": 2
        }
      ]
    },
    {
      "cell_type": "code",
      "metadata": {
        "colab": {
          "base_uri": "https://localhost:8080/",
          "height": 418
        },
        "id": "MPxDssUZG0sl",
        "outputId": "1d76ffa9-1321-495c-b0bb-2bacd1d5d93e"
      },
      "source": [
        "#농업을 제외한 나머지 삭제\n",
        "delete1 = ['임업']\n",
        "condition1 = (data.품목별1.isin(delete1) == False)\n",
        "data_modify1 = data[condition1]\n",
        "data_modify1"
      ],
      "execution_count": null,
      "outputs": [
        {
          "output_type": "execute_result",
          "data": {
            "text/html": [
              "<div>\n",
              "<style scoped>\n",
              "    .dataframe tbody tr th:only-of-type {\n",
              "        vertical-align: middle;\n",
              "    }\n",
              "\n",
              "    .dataframe tbody tr th {\n",
              "        vertical-align: top;\n",
              "    }\n",
              "\n",
              "    .dataframe thead th {\n",
              "        text-align: right;\n",
              "    }\n",
              "</style>\n",
              "<table border=\"1\" class=\"dataframe\">\n",
              "  <thead>\n",
              "    <tr style=\"text-align: right;\">\n",
              "      <th></th>\n",
              "      <th>시점</th>\n",
              "      <th>품목별1</th>\n",
              "      <th>품목별2</th>\n",
              "      <th>품목별3</th>\n",
              "      <th>품목별4</th>\n",
              "      <th>품목별5</th>\n",
              "      <th>품목별6</th>\n",
              "      <th>생산지수</th>\n",
              "      <th>생산금액 (십억원)</th>\n",
              "    </tr>\n",
              "  </thead>\n",
              "  <tbody>\n",
              "    <tr>\n",
              "      <th>0</th>\n",
              "      <td>2000</td>\n",
              "      <td>농업</td>\n",
              "      <td>재배업</td>\n",
              "      <td>소계</td>\n",
              "      <td>소계</td>\n",
              "      <td>소계</td>\n",
              "      <td>소계</td>\n",
              "      <td>106.8</td>\n",
              "      <td>23885.3</td>\n",
              "    </tr>\n",
              "    <tr>\n",
              "      <th>1</th>\n",
              "      <td>2000</td>\n",
              "      <td>농업</td>\n",
              "      <td>재배업</td>\n",
              "      <td>채소</td>\n",
              "      <td>엽채류</td>\n",
              "      <td>노지재배</td>\n",
              "      <td>배추</td>\n",
              "      <td>141.1</td>\n",
              "      <td>520.5</td>\n",
              "    </tr>\n",
              "    <tr>\n",
              "      <th>2</th>\n",
              "      <td>2000</td>\n",
              "      <td>농업</td>\n",
              "      <td>재배업</td>\n",
              "      <td>채소</td>\n",
              "      <td>엽채류</td>\n",
              "      <td>노지재배</td>\n",
              "      <td>양배추</td>\n",
              "      <td>78.4</td>\n",
              "      <td>62.6</td>\n",
              "    </tr>\n",
              "    <tr>\n",
              "      <th>3</th>\n",
              "      <td>2000</td>\n",
              "      <td>농업</td>\n",
              "      <td>재배업</td>\n",
              "      <td>채소</td>\n",
              "      <td>엽채류</td>\n",
              "      <td>노지재배</td>\n",
              "      <td>시금치</td>\n",
              "      <td>172.7</td>\n",
              "      <td>45.0</td>\n",
              "    </tr>\n",
              "    <tr>\n",
              "      <th>4</th>\n",
              "      <td>2000</td>\n",
              "      <td>농업</td>\n",
              "      <td>재배업</td>\n",
              "      <td>채소</td>\n",
              "      <td>엽채류</td>\n",
              "      <td>노지재배</td>\n",
              "      <td>상추</td>\n",
              "      <td>213.4</td>\n",
              "      <td>47.4</td>\n",
              "    </tr>\n",
              "    <tr>\n",
              "      <th>...</th>\n",
              "      <td>...</td>\n",
              "      <td>...</td>\n",
              "      <td>...</td>\n",
              "      <td>...</td>\n",
              "      <td>...</td>\n",
              "      <td>...</td>\n",
              "      <td>...</td>\n",
              "      <td>...</td>\n",
              "      <td>...</td>\n",
              "    </tr>\n",
              "    <tr>\n",
              "      <th>1258</th>\n",
              "      <td>2019</td>\n",
              "      <td>농업</td>\n",
              "      <td>재배업</td>\n",
              "      <td>과실</td>\n",
              "      <td>참다래</td>\n",
              "      <td>소계</td>\n",
              "      <td>소계</td>\n",
              "      <td>99.9</td>\n",
              "      <td>82.5</td>\n",
              "    </tr>\n",
              "    <tr>\n",
              "      <th>1259</th>\n",
              "      <td>2019</td>\n",
              "      <td>농업</td>\n",
              "      <td>재배업</td>\n",
              "      <td>과실</td>\n",
              "      <td>무화과</td>\n",
              "      <td>소계</td>\n",
              "      <td>소계</td>\n",
              "      <td>83.1</td>\n",
              "      <td>22.3</td>\n",
              "    </tr>\n",
              "    <tr>\n",
              "      <th>1260</th>\n",
              "      <td>2019</td>\n",
              "      <td>농업</td>\n",
              "      <td>재배업</td>\n",
              "      <td>과실</td>\n",
              "      <td>블루베리</td>\n",
              "      <td>소계</td>\n",
              "      <td>소계</td>\n",
              "      <td>115.4</td>\n",
              "      <td>145.2</td>\n",
              "    </tr>\n",
              "    <tr>\n",
              "      <th>1261</th>\n",
              "      <td>2019</td>\n",
              "      <td>농업</td>\n",
              "      <td>축잠업</td>\n",
              "      <td>축산업</td>\n",
              "      <td>가축</td>\n",
              "      <td>한육우</td>\n",
              "      <td>한우</td>\n",
              "      <td>114.2</td>\n",
              "      <td>5111.6</td>\n",
              "    </tr>\n",
              "    <tr>\n",
              "      <th>1262</th>\n",
              "      <td>2019</td>\n",
              "      <td>농업</td>\n",
              "      <td>축잠업</td>\n",
              "      <td>축산업</td>\n",
              "      <td>가축</td>\n",
              "      <td>한육우</td>\n",
              "      <td>육우</td>\n",
              "      <td>107.5</td>\n",
              "      <td>252.3</td>\n",
              "    </tr>\n",
              "  </tbody>\n",
              "</table>\n",
              "<p>940 rows × 9 columns</p>\n",
              "</div>"
            ],
            "text/plain": [
              "        시점 품목별1 품목별2 품목별3  품목별4  품목별5 품목별6   생산지수  생산금액 (십억원)\n",
              "0     2000   농업  재배업   소계    소계    소계   소계  106.8     23885.3\n",
              "1     2000   농업  재배업   채소   엽채류  노지재배   배추  141.1       520.5\n",
              "2     2000   농업  재배업   채소   엽채류  노지재배  양배추   78.4        62.6\n",
              "3     2000   농업  재배업   채소   엽채류  노지재배  시금치  172.7        45.0\n",
              "4     2000   농업  재배업   채소   엽채류  노지재배   상추  213.4        47.4\n",
              "...    ...  ...  ...  ...   ...   ...  ...    ...         ...\n",
              "1258  2019   농업  재배업   과실   참다래    소계   소계   99.9        82.5\n",
              "1259  2019   농업  재배업   과실   무화과    소계   소계   83.1        22.3\n",
              "1260  2019   농업  재배업   과실  블루베리    소계   소계  115.4       145.2\n",
              "1261  2019   농업  축잠업  축산업    가축   한육우   한우  114.2      5111.6\n",
              "1262  2019   농업  축잠업  축산업    가축   한육우   육우  107.5       252.3\n",
              "\n",
              "[940 rows x 9 columns]"
            ]
          },
          "metadata": {
            "tags": []
          },
          "execution_count": 3
        }
      ]
    },
    {
      "cell_type": "code",
      "metadata": {
        "colab": {
          "base_uri": "https://localhost:8080/"
        },
        "id": "pg_pP96uG-F1",
        "outputId": "b92e073d-7904-44b4-eb0f-634ff3d73da3"
      },
      "source": [
        "data_modify1['품목별3'].unique()"
      ],
      "execution_count": null,
      "outputs": [
        {
          "output_type": "execute_result",
          "data": {
            "text/plain": [
              "array(['소계', '채소', '과실', '축산업'], dtype=object)"
            ]
          },
          "metadata": {
            "tags": []
          },
          "execution_count": 4
        }
      ]
    },
    {
      "cell_type": "code",
      "metadata": {
        "colab": {
          "base_uri": "https://localhost:8080/"
        },
        "id": "VnOYqrzJHBMA",
        "outputId": "0f82772e-19a6-4d0b-9422-42551f887a08"
      },
      "source": [
        "#소계, 축산업은 구하려는 것이 아니므로 삭제.\n",
        "delete2 = ['소계', '축산업']\n",
        "condition2 = (data_modify1.품목별3.isin(delete2) == False)\n",
        "data_modify2 = data_modify1[condition2]\n",
        "data_modify2['품목별3'].unique()"
      ],
      "execution_count": null,
      "outputs": [
        {
          "output_type": "execute_result",
          "data": {
            "text/plain": [
              "array(['채소', '과실'], dtype=object)"
            ]
          },
          "metadata": {
            "tags": []
          },
          "execution_count": 5
        }
      ]
    },
    {
      "cell_type": "code",
      "metadata": {
        "colab": {
          "base_uri": "https://localhost:8080/"
        },
        "id": "MValyNQZHXeB",
        "outputId": "066791be-ed1a-4ecf-d52c-a83a9964f504"
      },
      "source": [
        "data_modify2['품목별4'].unique()"
      ],
      "execution_count": null,
      "outputs": [
        {
          "output_type": "execute_result",
          "data": {
            "text/plain": [
              "array(['엽채류', '과채류', '근채류', '소계', '사과', '배', '복숭아', '포도', '감귤', '자두',\n",
              "       '매실', '유자', '참다래', '무화과', '블루베리'], dtype=object)"
            ]
          },
          "metadata": {
            "tags": []
          },
          "execution_count": 6
        }
      ]
    },
    {
      "cell_type": "code",
      "metadata": {
        "colab": {
          "base_uri": "https://localhost:8080/"
        },
        "id": "fgzNRK-HHl9w",
        "outputId": "43072955-76ff-4c8f-e4e8-c335a17e7185"
      },
      "source": [
        "#소계는 구하려는 것이 아니므로 삭제.\n",
        "delete3 = ['소계']\n",
        "condition3 = (data_modify2.품목별4.isin(delete3) == False)\n",
        "data_modify3 = data_modify2[condition3]\n",
        "data_modify3['품목별4'].unique()"
      ],
      "execution_count": null,
      "outputs": [
        {
          "output_type": "execute_result",
          "data": {
            "text/plain": [
              "array(['엽채류', '과채류', '근채류', '사과', '배', '복숭아', '포도', '감귤', '자두', '매실',\n",
              "       '유자', '참다래', '무화과', '블루베리'], dtype=object)"
            ]
          },
          "metadata": {
            "tags": []
          },
          "execution_count": 7
        }
      ]
    },
    {
      "cell_type": "code",
      "metadata": {
        "colab": {
          "base_uri": "https://localhost:8080/",
          "height": 418
        },
        "id": "TtGXbB5jH7yP",
        "outputId": "53d57251-0255-4832-dc98-71fed7defa5e"
      },
      "source": [
        "#이제 뭘 지워야 하나 확인\n",
        "#>>> 품목별1, 2, 5 지우기\n",
        "data_modify3"
      ],
      "execution_count": null,
      "outputs": [
        {
          "output_type": "execute_result",
          "data": {
            "text/html": [
              "<div>\n",
              "<style scoped>\n",
              "    .dataframe tbody tr th:only-of-type {\n",
              "        vertical-align: middle;\n",
              "    }\n",
              "\n",
              "    .dataframe tbody tr th {\n",
              "        vertical-align: top;\n",
              "    }\n",
              "\n",
              "    .dataframe thead th {\n",
              "        text-align: right;\n",
              "    }\n",
              "</style>\n",
              "<table border=\"1\" class=\"dataframe\">\n",
              "  <thead>\n",
              "    <tr style=\"text-align: right;\">\n",
              "      <th></th>\n",
              "      <th>시점</th>\n",
              "      <th>품목별1</th>\n",
              "      <th>품목별2</th>\n",
              "      <th>품목별3</th>\n",
              "      <th>품목별4</th>\n",
              "      <th>품목별5</th>\n",
              "      <th>품목별6</th>\n",
              "      <th>생산지수</th>\n",
              "      <th>생산금액 (십억원)</th>\n",
              "    </tr>\n",
              "  </thead>\n",
              "  <tbody>\n",
              "    <tr>\n",
              "      <th>1</th>\n",
              "      <td>2000</td>\n",
              "      <td>농업</td>\n",
              "      <td>재배업</td>\n",
              "      <td>채소</td>\n",
              "      <td>엽채류</td>\n",
              "      <td>노지재배</td>\n",
              "      <td>배추</td>\n",
              "      <td>141.1</td>\n",
              "      <td>520.5</td>\n",
              "    </tr>\n",
              "    <tr>\n",
              "      <th>2</th>\n",
              "      <td>2000</td>\n",
              "      <td>농업</td>\n",
              "      <td>재배업</td>\n",
              "      <td>채소</td>\n",
              "      <td>엽채류</td>\n",
              "      <td>노지재배</td>\n",
              "      <td>양배추</td>\n",
              "      <td>78.4</td>\n",
              "      <td>62.6</td>\n",
              "    </tr>\n",
              "    <tr>\n",
              "      <th>3</th>\n",
              "      <td>2000</td>\n",
              "      <td>농업</td>\n",
              "      <td>재배업</td>\n",
              "      <td>채소</td>\n",
              "      <td>엽채류</td>\n",
              "      <td>노지재배</td>\n",
              "      <td>시금치</td>\n",
              "      <td>172.7</td>\n",
              "      <td>45.0</td>\n",
              "    </tr>\n",
              "    <tr>\n",
              "      <th>4</th>\n",
              "      <td>2000</td>\n",
              "      <td>농업</td>\n",
              "      <td>재배업</td>\n",
              "      <td>채소</td>\n",
              "      <td>엽채류</td>\n",
              "      <td>노지재배</td>\n",
              "      <td>상추</td>\n",
              "      <td>213.4</td>\n",
              "      <td>47.4</td>\n",
              "    </tr>\n",
              "    <tr>\n",
              "      <th>5</th>\n",
              "      <td>2000</td>\n",
              "      <td>농업</td>\n",
              "      <td>재배업</td>\n",
              "      <td>채소</td>\n",
              "      <td>엽채류</td>\n",
              "      <td>노지재배</td>\n",
              "      <td>미나리</td>\n",
              "      <td>122.4</td>\n",
              "      <td>25.6</td>\n",
              "    </tr>\n",
              "    <tr>\n",
              "      <th>...</th>\n",
              "      <td>...</td>\n",
              "      <td>...</td>\n",
              "      <td>...</td>\n",
              "      <td>...</td>\n",
              "      <td>...</td>\n",
              "      <td>...</td>\n",
              "      <td>...</td>\n",
              "      <td>...</td>\n",
              "      <td>...</td>\n",
              "    </tr>\n",
              "    <tr>\n",
              "      <th>1256</th>\n",
              "      <td>2019</td>\n",
              "      <td>농업</td>\n",
              "      <td>재배업</td>\n",
              "      <td>과실</td>\n",
              "      <td>매실</td>\n",
              "      <td>소계</td>\n",
              "      <td>소계</td>\n",
              "      <td>78.4</td>\n",
              "      <td>52.4</td>\n",
              "    </tr>\n",
              "    <tr>\n",
              "      <th>1257</th>\n",
              "      <td>2019</td>\n",
              "      <td>농업</td>\n",
              "      <td>재배업</td>\n",
              "      <td>과실</td>\n",
              "      <td>유자</td>\n",
              "      <td>소계</td>\n",
              "      <td>소계</td>\n",
              "      <td>52.7</td>\n",
              "      <td>29.0</td>\n",
              "    </tr>\n",
              "    <tr>\n",
              "      <th>1258</th>\n",
              "      <td>2019</td>\n",
              "      <td>농업</td>\n",
              "      <td>재배업</td>\n",
              "      <td>과실</td>\n",
              "      <td>참다래</td>\n",
              "      <td>소계</td>\n",
              "      <td>소계</td>\n",
              "      <td>99.9</td>\n",
              "      <td>82.5</td>\n",
              "    </tr>\n",
              "    <tr>\n",
              "      <th>1259</th>\n",
              "      <td>2019</td>\n",
              "      <td>농업</td>\n",
              "      <td>재배업</td>\n",
              "      <td>과실</td>\n",
              "      <td>무화과</td>\n",
              "      <td>소계</td>\n",
              "      <td>소계</td>\n",
              "      <td>83.1</td>\n",
              "      <td>22.3</td>\n",
              "    </tr>\n",
              "    <tr>\n",
              "      <th>1260</th>\n",
              "      <td>2019</td>\n",
              "      <td>농업</td>\n",
              "      <td>재배업</td>\n",
              "      <td>과실</td>\n",
              "      <td>블루베리</td>\n",
              "      <td>소계</td>\n",
              "      <td>소계</td>\n",
              "      <td>115.4</td>\n",
              "      <td>145.2</td>\n",
              "    </tr>\n",
              "  </tbody>\n",
              "</table>\n",
              "<p>860 rows × 9 columns</p>\n",
              "</div>"
            ],
            "text/plain": [
              "        시점 품목별1 품목별2 품목별3  품목별4  품목별5 품목별6   생산지수  생산금액 (십억원)\n",
              "1     2000   농업  재배업   채소   엽채류  노지재배   배추  141.1       520.5\n",
              "2     2000   농업  재배업   채소   엽채류  노지재배  양배추   78.4        62.6\n",
              "3     2000   농업  재배업   채소   엽채류  노지재배  시금치  172.7        45.0\n",
              "4     2000   농업  재배업   채소   엽채류  노지재배   상추  213.4        47.4\n",
              "5     2000   농업  재배업   채소   엽채류  노지재배  미나리  122.4        25.6\n",
              "...    ...  ...  ...  ...   ...   ...  ...    ...         ...\n",
              "1256  2019   농업  재배업   과실    매실    소계   소계   78.4        52.4\n",
              "1257  2019   농업  재배업   과실    유자    소계   소계   52.7        29.0\n",
              "1258  2019   농업  재배업   과실   참다래    소계   소계   99.9        82.5\n",
              "1259  2019   농업  재배업   과실   무화과    소계   소계   83.1        22.3\n",
              "1260  2019   농업  재배업   과실  블루베리    소계   소계  115.4       145.2\n",
              "\n",
              "[860 rows x 9 columns]"
            ]
          },
          "metadata": {
            "tags": []
          },
          "execution_count": 8
        }
      ]
    },
    {
      "cell_type": "code",
      "metadata": {
        "colab": {
          "base_uri": "https://localhost:8080/",
          "height": 418
        },
        "id": "-7QdeGPHH_m8",
        "outputId": "b26d596e-25b0-4e1d-806a-9f5b52b4e1eb"
      },
      "source": [
        "data_modify2_new1 = data_modify2.drop(columns=['품목별1'], axis=1)\n",
        "data_modify2_new2 = data_modify2_new1.drop(columns=['품목별2'], axis=1)\n",
        "data_modify2_new = data_modify2_new2.drop(columns=['품목별5'], axis=1)\n",
        "\n",
        "data_modify2_new"
      ],
      "execution_count": null,
      "outputs": [
        {
          "output_type": "execute_result",
          "data": {
            "text/html": [
              "<div>\n",
              "<style scoped>\n",
              "    .dataframe tbody tr th:only-of-type {\n",
              "        vertical-align: middle;\n",
              "    }\n",
              "\n",
              "    .dataframe tbody tr th {\n",
              "        vertical-align: top;\n",
              "    }\n",
              "\n",
              "    .dataframe thead th {\n",
              "        text-align: right;\n",
              "    }\n",
              "</style>\n",
              "<table border=\"1\" class=\"dataframe\">\n",
              "  <thead>\n",
              "    <tr style=\"text-align: right;\">\n",
              "      <th></th>\n",
              "      <th>시점</th>\n",
              "      <th>품목별3</th>\n",
              "      <th>품목별4</th>\n",
              "      <th>품목별6</th>\n",
              "      <th>생산지수</th>\n",
              "      <th>생산금액 (십억원)</th>\n",
              "    </tr>\n",
              "  </thead>\n",
              "  <tbody>\n",
              "    <tr>\n",
              "      <th>1</th>\n",
              "      <td>2000</td>\n",
              "      <td>채소</td>\n",
              "      <td>엽채류</td>\n",
              "      <td>배추</td>\n",
              "      <td>141.1</td>\n",
              "      <td>520.5</td>\n",
              "    </tr>\n",
              "    <tr>\n",
              "      <th>2</th>\n",
              "      <td>2000</td>\n",
              "      <td>채소</td>\n",
              "      <td>엽채류</td>\n",
              "      <td>양배추</td>\n",
              "      <td>78.4</td>\n",
              "      <td>62.6</td>\n",
              "    </tr>\n",
              "    <tr>\n",
              "      <th>3</th>\n",
              "      <td>2000</td>\n",
              "      <td>채소</td>\n",
              "      <td>엽채류</td>\n",
              "      <td>시금치</td>\n",
              "      <td>172.7</td>\n",
              "      <td>45.0</td>\n",
              "    </tr>\n",
              "    <tr>\n",
              "      <th>4</th>\n",
              "      <td>2000</td>\n",
              "      <td>채소</td>\n",
              "      <td>엽채류</td>\n",
              "      <td>상추</td>\n",
              "      <td>213.4</td>\n",
              "      <td>47.4</td>\n",
              "    </tr>\n",
              "    <tr>\n",
              "      <th>5</th>\n",
              "      <td>2000</td>\n",
              "      <td>채소</td>\n",
              "      <td>엽채류</td>\n",
              "      <td>미나리</td>\n",
              "      <td>122.4</td>\n",
              "      <td>25.6</td>\n",
              "    </tr>\n",
              "    <tr>\n",
              "      <th>...</th>\n",
              "      <td>...</td>\n",
              "      <td>...</td>\n",
              "      <td>...</td>\n",
              "      <td>...</td>\n",
              "      <td>...</td>\n",
              "      <td>...</td>\n",
              "    </tr>\n",
              "    <tr>\n",
              "      <th>1256</th>\n",
              "      <td>2019</td>\n",
              "      <td>과실</td>\n",
              "      <td>매실</td>\n",
              "      <td>소계</td>\n",
              "      <td>78.4</td>\n",
              "      <td>52.4</td>\n",
              "    </tr>\n",
              "    <tr>\n",
              "      <th>1257</th>\n",
              "      <td>2019</td>\n",
              "      <td>과실</td>\n",
              "      <td>유자</td>\n",
              "      <td>소계</td>\n",
              "      <td>52.7</td>\n",
              "      <td>29.0</td>\n",
              "    </tr>\n",
              "    <tr>\n",
              "      <th>1258</th>\n",
              "      <td>2019</td>\n",
              "      <td>과실</td>\n",
              "      <td>참다래</td>\n",
              "      <td>소계</td>\n",
              "      <td>99.9</td>\n",
              "      <td>82.5</td>\n",
              "    </tr>\n",
              "    <tr>\n",
              "      <th>1259</th>\n",
              "      <td>2019</td>\n",
              "      <td>과실</td>\n",
              "      <td>무화과</td>\n",
              "      <td>소계</td>\n",
              "      <td>83.1</td>\n",
              "      <td>22.3</td>\n",
              "    </tr>\n",
              "    <tr>\n",
              "      <th>1260</th>\n",
              "      <td>2019</td>\n",
              "      <td>과실</td>\n",
              "      <td>블루베리</td>\n",
              "      <td>소계</td>\n",
              "      <td>115.4</td>\n",
              "      <td>145.2</td>\n",
              "    </tr>\n",
              "  </tbody>\n",
              "</table>\n",
              "<p>880 rows × 6 columns</p>\n",
              "</div>"
            ],
            "text/plain": [
              "        시점 품목별3  품목별4 품목별6   생산지수  생산금액 (십억원)\n",
              "1     2000   채소   엽채류   배추  141.1       520.5\n",
              "2     2000   채소   엽채류  양배추   78.4        62.6\n",
              "3     2000   채소   엽채류  시금치  172.7        45.0\n",
              "4     2000   채소   엽채류   상추  213.4        47.4\n",
              "5     2000   채소   엽채류  미나리  122.4        25.6\n",
              "...    ...  ...   ...  ...    ...         ...\n",
              "1256  2019   과실    매실   소계   78.4        52.4\n",
              "1257  2019   과실    유자   소계   52.7        29.0\n",
              "1258  2019   과실   참다래   소계   99.9        82.5\n",
              "1259  2019   과실   무화과   소계   83.1        22.3\n",
              "1260  2019   과실  블루베리   소계  115.4       145.2\n",
              "\n",
              "[880 rows x 6 columns]"
            ]
          },
          "metadata": {
            "tags": []
          },
          "execution_count": 9
        }
      ]
    },
    {
      "cell_type": "markdown",
      "metadata": {
        "id": "JhGhAXgSWqiA"
      },
      "source": [
        "## 3. 함수 만들기"
      ]
    },
    {
      "cell_type": "code",
      "metadata": {
        "id": "S4kqN7r6IU-5"
      },
      "source": [
        "#원하는 채소 혹은 과일의 생산지수, 생산금액 보기\n",
        "data_modify2_new['품목별6'].unique()\n",
        "delete4 = ['배추', '양배추', '시금치', '상추', '미나리', '쑥갓', '부추', '수박', '오이', '호박', '가지', '참외', '토마토', '딸기', '메론', '풋고추',\n",
        "          '파프리카', '무', '당근', '우엉', '토란', '연근', '소계']"
      ],
      "execution_count": null,
      "outputs": []
    },
    {
      "cell_type": "code",
      "metadata": {
        "id": "QfsDHJj8IYgt"
      },
      "source": [
        "def agriculture():\n",
        "  #채소를 볼건지 과일을 볼건지 물어보기\n",
        "  a = int(input('과일(1) or 채소(2)? : '))\n",
        "\n",
        "  #과일 중에서도 어떤 것?\n",
        "  if a == 1:\n",
        "    print(\"\"\"입력한 숫자에 해당되는 과일의 연도별 생산금액 그래프를 볼 수 있습니다.\n",
        "  엽채류(1)  과채류(2)  근채류(3)  사과(4)  배(5)  복숭아(6)  포도(7)  감귤(8)  자두(9)  매실(10)  유자(11)  참다래(12)  무화과(13)  블루베리(14)\"\"\")\n",
        "    n = int(input('4~14 중 입력하세요. '))\n",
        "\n",
        "    if 4<=n<=14:\n",
        "      delete = ['소계', '엽채류', '과채류', '근채류','사과', '배', '복숭아', '포도', '감귤', '자두', '매실', '유자', '참다래', '무화과', '블루베리', '가축']\n",
        "      del delete[n]\n",
        "      condition = (data_modify2_new.품목별4.isin(delete) == False)\n",
        "      data_modify2_new_new1 = data_modify2_new[condition]\n",
        "\n",
        "  #채소 중에서도 어떤 것?\n",
        "  elif a==2:\n",
        "    print(\"\"\"입력한 숫자에 해당되는 과일의 연도별 생산금액 그래프를 볼 수 있습니다.\n",
        "  배추(0)  양배추(1)  시금치(2)  상추(3)  미나리(4)  쑥갓(5)   부추(6)   수박(7)   오이(8)   호박(9)   가지(10)  참외(11)  토마토(12)  딸기(13)  메론(14)\n",
        "            풋고추(15)  파프리카(16)  무(17)  당근(18)  우엉(19)  토란(20)  연근(21)\"\"\")\n",
        "    delete = ['배추', '양배추', '시금치', '상추', '미나리', '쑥갓', '부추', '수박', '오이', '호박', '가지', '참외', '토마토', '딸기', '메론', '풋고추',\n",
        "          '파프리카', '무', '당근', '우엉', '토란', '연근', '소계']\n",
        "    n = int(input('0~21 중 입력하세요. '))\n",
        "    if 0<=n<=21:\n",
        "      del delete[n]\n",
        "      condition = (data_modify2_new.품목별4.isin(delete) == False)\n",
        "      data_modify2_new_new1 = data_modify2_new[condition]\n",
        "\n",
        "  #표 보이기\n",
        "  data_modify2_new1 =  data_modify2_new_new1.drop(columns=['품목별3','품목별4', '생산지수'], axis=1)\n",
        "\n",
        "\n",
        "  #그래프 보이기\n",
        "  plt.figure(figsize = (20,10))\n",
        "  plt.plot(data_modify2_new_new1['시점'], data_modify2_new_new1['생산금액 (십억원)'])\n",
        "\n",
        "  # [그래프 제목 수정 / 띄어쓰기는 도저히 못하겠다...]\n",
        "  #delete = ['소계', '엽채류', '과채류', '근채류','사과', '배', '복숭아', '포도', '감귤', '자두', '매실', '유자', '참다래', '무화과', '블루베리', '가축']\n",
        "  #title_num = delete[n]\n",
        "  #title_name = \"연도별\"+ title_num+ \"생산금액\"\n",
        "  plt.title('연도별 생산금액')\n",
        "\n",
        "  plt.xlabel('시점')\n",
        "  plt.ylabel('생산금액 (십억원)')\n",
        "  plt.xticks([2000, 2001, 2002, 2003, 2004, 2005, 2006, 2007, 2008, 2009, 2010, 2011, 2012, 2013, 2014, 2015, 2016, 2017, 2018, 2019])\n",
        "  plt.rc('xtick', labelsize=14) # fontsize of the tick labels\n",
        "  plt.rc('ytick', labelsize=14) # fontsize of the tick labels\n",
        "\n",
        "  plt.rc('axes', titlesize='35') # fontsize of the axes title\n",
        "  plt.rc('axes', labelsize=25) # fontsize of the x and y labels\n",
        "\n",
        "\n",
        "  return data_modify2_new1, plt.show"
      ],
      "execution_count": null,
      "outputs": []
    },
    {
      "cell_type": "markdown",
      "metadata": {
        "id": "LxEN1yeLWtG6"
      },
      "source": [
        "##4. 데이터 분석"
      ]
    },
    {
      "cell_type": "markdown",
      "metadata": {
        "id": "luNgdP7ykAGS"
      },
      "source": [
        "처음에는 과일들이 비슷한 그래프를 띠고 있을 거라고 예상했다. 하지만 그건 너무 짧은 생각이었다. 과일별로 제철이 있기 때문이었다.\n",
        "위 자료의 과일들의 제철을 보자면\n",
        "사과 : 10-12월 / 배 : 9-11월 / 복숭아 : 6-8월/ 포도 : 8-9월 / 감귤 : X / 자두 : 7-8월 / 매실 : 5-6월 / 유자 : 11-12월 / 참다래(키위) : 8-10월 / 무화과 : 8-11월 / 블루베리 :7-9월\n",
        "\n"
      ]
    },
    {
      "cell_type": "markdown",
      "metadata": {
        "id": "dYTeWHR8Xm1C"
      },
      "source": [
        "##5. 데이터 시각화"
      ]
    },
    {
      "cell_type": "code",
      "metadata": {
        "id": "Dr1mVAKyLIM5",
        "colab": {
          "base_uri": "https://localhost:8080/",
          "height": 1000
        },
        "outputId": "994d13f2-e8a8-4263-bdc7-f3a3af2226e3"
      },
      "source": [
        "agriculture()"
      ],
      "execution_count": null,
      "outputs": [
        {
          "output_type": "stream",
          "text": [
            "과일(1) or 채소(2)? : 1\n",
            "입력한 숫자에 해당되는 과일의 연도별 생산금액 그래프를 볼 수 있습니다.\n",
            "  엽채류(1)  과채류(2)  근채류(3)  사과(4)  배(5)  복숭아(6)  포도(7)  감귤(8)  자두(9)  매실(10)  유자(11)  참다래(12)  무화과(13)  블루베리(14)\n",
            "4~14 중 입력하세요. 4\n"
          ],
          "name": "stdout"
        },
        {
          "output_type": "execute_result",
          "data": {
            "text/plain": [
              "(        시점 품목별6  생산금액 (십억원)\n",
              " 34    2000   소계       497.2\n",
              " 98    2001   소계       437.2\n",
              " 162   2002   소계       631.1\n",
              " 226   2003   소계       422.6\n",
              " 290   2004   소계       472.1\n",
              " 354   2005   소계       467.1\n",
              " 418   2006   소계       527.2\n",
              " 482   2007   소계       514.3\n",
              " 546   2008   소계       834.5\n",
              " 610   2009   소계       853.0\n",
              " 674   2010   소계       801.6\n",
              " 738   2011   소계       741.2\n",
              " 802   2012   소계      1017.5\n",
              " 866   2013   소계      1315.3\n",
              " 930   2014   소계      1165.6\n",
              " 994   2015   소계      1448.4\n",
              " 1058  2016   소계      1136.6\n",
              " 1122  2017   소계      1110.3\n",
              " 1186  2018   소계       968.2\n",
              " 1250  2019   소계      1077.2, <function matplotlib.pyplot.show>)"
            ]
          },
          "metadata": {
            "tags": []
          },
          "execution_count": 12
        },
        {
          "output_type": "stream",
          "text": [
            "/usr/local/lib/python3.7/dist-packages/matplotlib/backends/backend_agg.py:214: RuntimeWarning: Glyph 50672 missing from current font.\n",
            "  font.set_text(s, 0.0, flags=flags)\n",
            "/usr/local/lib/python3.7/dist-packages/matplotlib/backends/backend_agg.py:214: RuntimeWarning: Glyph 46020 missing from current font.\n",
            "  font.set_text(s, 0.0, flags=flags)\n",
            "/usr/local/lib/python3.7/dist-packages/matplotlib/backends/backend_agg.py:214: RuntimeWarning: Glyph 48324 missing from current font.\n",
            "  font.set_text(s, 0.0, flags=flags)\n",
            "/usr/local/lib/python3.7/dist-packages/matplotlib/backends/backend_agg.py:214: RuntimeWarning: Glyph 49373 missing from current font.\n",
            "  font.set_text(s, 0.0, flags=flags)\n",
            "/usr/local/lib/python3.7/dist-packages/matplotlib/backends/backend_agg.py:214: RuntimeWarning: Glyph 49328 missing from current font.\n",
            "  font.set_text(s, 0.0, flags=flags)\n",
            "/usr/local/lib/python3.7/dist-packages/matplotlib/backends/backend_agg.py:214: RuntimeWarning: Glyph 44552 missing from current font.\n",
            "  font.set_text(s, 0.0, flags=flags)\n",
            "/usr/local/lib/python3.7/dist-packages/matplotlib/backends/backend_agg.py:214: RuntimeWarning: Glyph 50529 missing from current font.\n",
            "  font.set_text(s, 0.0, flags=flags)\n",
            "/usr/local/lib/python3.7/dist-packages/matplotlib/backends/backend_agg.py:214: RuntimeWarning: Glyph 49884 missing from current font.\n",
            "  font.set_text(s, 0.0, flags=flags)\n",
            "/usr/local/lib/python3.7/dist-packages/matplotlib/backends/backend_agg.py:214: RuntimeWarning: Glyph 51216 missing from current font.\n",
            "  font.set_text(s, 0.0, flags=flags)\n",
            "/usr/local/lib/python3.7/dist-packages/matplotlib/backends/backend_agg.py:183: RuntimeWarning: Glyph 49884 missing from current font.\n",
            "  font.set_text(s, 0, flags=flags)\n",
            "/usr/local/lib/python3.7/dist-packages/matplotlib/backends/backend_agg.py:183: RuntimeWarning: Glyph 51216 missing from current font.\n",
            "  font.set_text(s, 0, flags=flags)\n",
            "/usr/local/lib/python3.7/dist-packages/matplotlib/backends/backend_agg.py:214: RuntimeWarning: Glyph 49901 missing from current font.\n",
            "  font.set_text(s, 0.0, flags=flags)\n",
            "/usr/local/lib/python3.7/dist-packages/matplotlib/backends/backend_agg.py:214: RuntimeWarning: Glyph 50613 missing from current font.\n",
            "  font.set_text(s, 0.0, flags=flags)\n",
            "/usr/local/lib/python3.7/dist-packages/matplotlib/backends/backend_agg.py:214: RuntimeWarning: Glyph 50896 missing from current font.\n",
            "  font.set_text(s, 0.0, flags=flags)\n",
            "/usr/local/lib/python3.7/dist-packages/matplotlib/backends/backend_agg.py:183: RuntimeWarning: Glyph 49373 missing from current font.\n",
            "  font.set_text(s, 0, flags=flags)\n",
            "/usr/local/lib/python3.7/dist-packages/matplotlib/backends/backend_agg.py:183: RuntimeWarning: Glyph 49328 missing from current font.\n",
            "  font.set_text(s, 0, flags=flags)\n",
            "/usr/local/lib/python3.7/dist-packages/matplotlib/backends/backend_agg.py:183: RuntimeWarning: Glyph 44552 missing from current font.\n",
            "  font.set_text(s, 0, flags=flags)\n",
            "/usr/local/lib/python3.7/dist-packages/matplotlib/backends/backend_agg.py:183: RuntimeWarning: Glyph 50529 missing from current font.\n",
            "  font.set_text(s, 0, flags=flags)\n",
            "/usr/local/lib/python3.7/dist-packages/matplotlib/backends/backend_agg.py:183: RuntimeWarning: Glyph 49901 missing from current font.\n",
            "  font.set_text(s, 0, flags=flags)\n",
            "/usr/local/lib/python3.7/dist-packages/matplotlib/backends/backend_agg.py:183: RuntimeWarning: Glyph 50613 missing from current font.\n",
            "  font.set_text(s, 0, flags=flags)\n",
            "/usr/local/lib/python3.7/dist-packages/matplotlib/backends/backend_agg.py:183: RuntimeWarning: Glyph 50896 missing from current font.\n",
            "  font.set_text(s, 0, flags=flags)\n",
            "/usr/local/lib/python3.7/dist-packages/matplotlib/backends/backend_agg.py:183: RuntimeWarning: Glyph 50672 missing from current font.\n",
            "  font.set_text(s, 0, flags=flags)\n",
            "/usr/local/lib/python3.7/dist-packages/matplotlib/backends/backend_agg.py:183: RuntimeWarning: Glyph 46020 missing from current font.\n",
            "  font.set_text(s, 0, flags=flags)\n",
            "/usr/local/lib/python3.7/dist-packages/matplotlib/backends/backend_agg.py:183: RuntimeWarning: Glyph 48324 missing from current font.\n",
            "  font.set_text(s, 0, flags=flags)\n"
          ],
          "name": "stderr"
        },
        {
          "output_type": "display_data",
          "data": {
            "image/png": "[encoded data removed]",
            "text/plain": [
              "<Figure size 1440x720 with 1 Axes>"
            ]
          },
          "metadata": {
            "tags": [],
            "needs_background": "light"
          }
        }
      ]
    },
    {
      "cell_type": "markdown",
      "metadata": {
        "id": "f-91jlcdOHee"
      },
      "source": [
        "**그래프가 과일은 잘 나오지만 채소는 잘 나오지 않음**\n",
        ">>실패\n",
        "\n"
      ]
    },
    {
      "cell_type": "markdown",
      "metadata": {
        "id": "yrW3E_J7Xpw9"
      },
      "source": [
        "##6. 데이터 해석하기"
      ]
    },
    {
      "cell_type": "code",
      "metadata": {
        "id": "tAjtHUK65SqJ"
      },
      "source": [
        "* 무화과 2011년부터 한국서 생산\n",
        "* 블루베리 2017년부터 한국서 생산\n",
        ">>> 지구온난화 영향의 가장 큰 사례(원래 재배되는 곳이 아님에도 우리나라가 따뜻해지면서 재배 가능해짐)\n",
        "\n",
        "[태풍 휩쓸고 간 들녘]\"사과-배 성한 나무가 없어요\" [기사입력 2002.09.02., https://news.naver.com/main/read.nhn?mode=LSD&mid=sec&sid1=102&oid=020&aid=0000149037]\n",
        "\n",
        "경북북부 서리.냉해 사과 농사 망쳤다[기사입력 2004.06.14. ,https://news.naver.com/main/read.nhn?mode=LSD&mid=sec&sid1=102&oid=001&aid=0000674686]\n",
        "농약때문에 농사 망쳤다[기사입력 2004.08.27., https://news.naver.com/main/read.nhn?mode=LSD&mid=sec&sid1=102&oid=088&aid=0000006842]\n",
        "\n",
        "경북 북부에 우박..농작물 520㏊ 피해[기사입력 2009.05.26., https://news.naver.com/main/read.nhn?mode=LSD&mid=sec&sid1=102&oid=001&aid=0002681750]\n",
        "강원 152㎜ 폭우..낙뢰.우박 피해 속출(종합)[기사입력 2009.06.03, https://news.naver.com/main/read.nhn?mode=LSD&mid=sec&sid1=103&oid=001&aid=0002696163]\n",
        "\n",
        "\n",
        "이상기온 피해 농가 보듬기… 재해복구비 정부지원 요청[발행일 2010-05-06 ,http://www.kyeongin.com/main/view.php?key=516966 ]  <<< 이상기온과 농작물 첫 연관된 뉴스\n",
        "전북도, 구제역.이상기온 피해 상황 점검[기사입력 2010.05.11., https://news.naver.com/main/read.nhn?mode=LSD&mid=sec&sid1=102&oid=001&aid=0003269905]\n",
        "농작물 냉해·병충해 ‘타격’ 생산 50%까지 격감[입력 : 2010.04.15 ,https://www.khan.co.kr/local/local-general/article/201004151747125#csidx2cb91aee4ff97e8bef2d250be33ba88 ]\n",
        "\n",
        "농작물 초토화 ‘멸강나방 유충’ 급속 확산[2011-07-04 기사, http://www.daejonilbo.com/news/newsitem.asp?pk_no=959594]\n",
        "“포도나무 동해 비상… 농민도 말라죽을 지경” [승인 2011.05.30 , http://www.ikpnews.net/news/articleView.html?idxno=14087]\n",
        "\n",
        "사과의 주산지가 평창?… 농작물 재배 지도가 달라진다 [입력 2012-08-13 ,https://www.etoday.co.kr/news/view/619297]\n",
        "농어업재해대책법 무엇이 문제인가? [승인 2012.09.17,http://www.ikpnews.net/news/articleView.html?idxno=17572]\n",
        "‘농산물 탄소성적계산기’ 웹 서비스 시작[ 2012.09.21, https://www.korea.kr/news/pressReleaseView.do?newsId=155851200]   <<< 뉴스에서 농작물과 관련한 탄소발자국에 대해 관심을 갖기 시작함.\n",
        "\n",
        "농식품부 ‘이상기후 지수’ 개발 예보한다[수정 : 2013-08-07, https://go.seoul.co.kr/news/newsView.php?id=20130807005007]\n",
        "\n",
        "온난화로 북상하는 농작물 재배 한계선[2014-07-31 ,https://www.rfa.org/korean/weekly_program/environment/fe-mj-07312014113000.html]\n",
        "해남 메뚜기떼 방제 이틀째...농작물 피해 확산[2014년 08월 30일,https://ytn.co.kr/_ln/0115_201408302204506032]\n",
        "\n",
        "2015년\n",
        "한반도 아열대화 빨라지고 있다\t[https://www.kyongbuk.co.kr/news/articleView.html?idxno=931781#link]\n",
        "‘스마트팜’이 재배한 농작물, ‘스마트 로컬푸드’서 판다 [https://www.cctvnews.co.kr/news/articleView.html?idxno=32396] <<< 스마트팜이 주목받기 시작함.\n",
        "가을 가뭄 '비상'… 농작물·급수 피해 장기화 우려 [http://biz.newdaily.co.kr/site/data/html/2015/10/07/2015100710044.html]\n",
        "\n",
        "2016년\n",
        "빛 공해·통풍방해 농작물 피해 배상 기준 제정[http://www.greenpostkorea.co.kr/news/articleView.html?idxno=66390]  <<< 빛 공해로 인한 채소의 피해\n",
        "모바일로 농작물 재배시설 원격관리 … ‘스마트팜’확산 가속화 [https://news.joins.com/article/20489404]   <<< 스마트팜\n",
        "인천기온 50년간 1℃ 상승… 남부 농작물 재배 가능권?[http://www.kihoilbo.co.kr/news/articleView.html?idxno=661026] <<< 남부 농작물 북상\n",
        "이외에도 드론과 관련하여 경작 및 감시, 보초 관련한 뉴스도 있었음.\n",
        "\n",
        "2017년\n",
        "경북 봉화에 골프공만한 우박… 농작물 등 피해 속출 [https://www.hankookilbo.com/News/Read/201706011531723979]\n",
        "'포도 농가' 비상... 외래해충 꽃매미 알 월동생존율 역대 최고 [https://news.joins.com/article/21363948]\n",
        "\n",
        "\n",
        "2018년\n",
        "이상저온…농작물 냉해 '전국 몸살' [http://www.agrinet.co.kr/news/articleView.html?idxno=160652]\n",
        "태풍 쁘라삐룬에 농작물 8천500㏊ 침수…전북·벼 피해 커[https://news.sbs.co.kr/news/endPage.do?news_id=N1004831778]\n",
        "지구온난화 탓에 농작물 주산지, '남부→충북·강원' 북상[https://newsis.com/view/?id=NISX20180410_0000277425]\n",
        "\n",
        "2019년\n",
        "태풍 '링링' 피해 '눈덩이'…27명 사상·농작물 1만4천㏊ 피해(종합)[https://www.yna.co.kr/view/AKR20190908023351004]\n",
        "태풍 '미탁' 영향 충북 농작물 피해 204㏊[https://www.yna.co.kr/view/AKR20191004080300064]\n",
        "경남지역, 구슬만한 우박에 양파·마늘 등 농작물 ‘날벼락’[http://www.ikpnews.net/news/articleView.html?idxno=37572]\n",
        "\n",
        "\n",
        "꼭 지구온난화에 의한 영향 뿐만 아니라 다양한 요인들로 인해 농작물의 생산량에 크고 작은 변화를 줄 수 있다는 것.\n",
        "하지만 시간이 흐르면서 2010년 부터 조금씩 이상기온과 관련한 이야이가 나오더니, 2012년부터 본격적으로 기사가 확 늘어나기 시작했다.\n",
        "남부 농작물이 북상한다는 내용의 기사를 통해서나 원래는 남쪽의 따뜻한 나라에서 재배할 수 있었던 과일, 채소들이 우리나라에서도 재배가 가능해졌다는 게 가장 큰 지구온난화의 양상이 될 것이다.\n",
        "특히 지구온난화로 인한 농촌의 해결 방안으로 스마트팜의 도입인데, 초기에 큰 투자가 필요하고 배워야 하는 것이 많아 중장년층이 농촌에서 새롭게 배우기엔 힘이 든다는 것이 사실이다.\n",
        "기사를 찾아보며 흥미로웠던 것은 농작물과 관련한 보험이 점점 늘어났다는 것이다. 또한 양파, 마늘이 피해를 가장 자주, 쉽게 입었던 것이 인상깊었다.\n",
        "\n",
        "그래프를 보면 주로 늦여름, 가을에서 재배하는 과일들 및 채소들이 기후변화에 영향을 크게 받아, 전년도와 비교할 때 큰 차이를 보이는 경향이 있는 반면,\n",
        "유자, 감귤처럼 겨울에 재배하는 과일은 지속적인 하향세를 보였다.\n",
        "특히 그런데 뜨거운 여름이 점점 길어질 수록 유일하게 국내에서 재배해오던 복숭아, 자두, 참다래는 지속적으로 상승세를 보이고 있었고, 블루베리 또한 상승세였다."
      ],
      "execution_count": null,
      "outputs": []
    }
  ]
}
